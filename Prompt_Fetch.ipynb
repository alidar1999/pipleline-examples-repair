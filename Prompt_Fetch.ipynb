{
 "cells": [
  {
   "cell_type": "code",
   "execution_count": null,
   "metadata": {},
   "outputs": [],
   "source": [
    "# Necassary library imports\n",
    "import os\n",
    "import time\n",
    "import logging\n",
    "import json\n",
    "from tqdm import tqdm\n",
    "from datetime import datetime\n",
    "\n",
    "# Importing Modular File Functions\n",
    "from api.test import test_api_connection\n",
    "from task_generator.task_manager import repair_example\n",
    "from config.model import BASE_DIR"
   ]
  },
  {
   "cell_type": "code",
   "execution_count": null,
   "metadata": {},
   "outputs": [],
   "source": [
    "# Configure logging\n",
    "logging.basicConfig(level=logging.INFO, format='%(asctime)s - %(levelname)s - %(message)s')\n",
    "logger = logging.getLogger(__name__)"
   ]
  },
  {
   "cell_type": "code",
   "execution_count": null,
   "metadata": {},
   "outputs": [],
   "source": [
    "# Load task list from JSON file in current directory\n",
    "TASK_FILE = BASE_DIR / \"erraneous_examples_set3.json\"  # or \"failed_examples.json\"\n",
    "\n",
    "\"\"\"\n",
    "    Load all failed examples from the provided JSON file.\n",
    "    Returns a list of dicts, each representing a failed example.\n",
    "\"\"\"\n",
    "if TASK_FILE.exists():\n",
    "    with open(TASK_FILE, \"r\", encoding=\"utf-8\") as f:\n",
    "        task_data = json.load(f)\n",
    "        TOTAL_EXAMPLES = len(task_data)\n",
    "        logger.info(f\"📋 Loaded {TOTAL_EXAMPLES} examples from {TASK_FILE.name}\")\n",
    "else:\n",
    "    TOTAL_EXAMPLES = 0\n",
    "    print(f\"⚠️ Task file not found at {TASK_FILE.name}, TOTAL_EXAMPLES set to 0\")"
   ]
  },
  {
   "cell_type": "code",
   "execution_count": null,
   "metadata": {},
   "outputs": [],
   "source": [
    "def repair_examples():\n",
    "    \"\"\"Main function to orchestrate the examples repair process.\"\"\"\n",
    "    logger.info(f\"Starting the repair process of {TOTAL_EXAMPLES} Raspberry Pi code examples\")\n",
    "    \n",
    "    # Current user info for metadata\n",
    "    current_user = os.environ.get(\"USER\", \"Unknown\")\n",
    "    current_datetime = datetime.utcnow().strftime('%Y-%m-%d %H:%M:%S')\n",
    "    \n",
    "    logger.info(f\"Current Date and Time (UTC): {current_datetime}\")\n",
    "    logger.info(f\"Current User's Login: {current_user}\")\n",
    "    \n",
    "    # First test the API connection\n",
    "    if not test_api_connection():\n",
    "        logger.error(f\"API Connection failed\")\n",
    "        return\n",
    "    \n",
    "    # Setup progress tracking\n",
    "    successful = 0\n",
    "    failed = 0\n",
    "    \n",
    "    # Initialize progress bar\n",
    "    pbar = tqdm(TOTAL_EXAMPLES, desc=\"Repairing examples\")\n",
    "    \n",
    "    # Process tasks\n",
    "    start_time = time.time()\n",
    "    for i, example in enumerate(task_data):\n",
    "        logger.info(f\"Repairing example {i+1}/{TOTAL_EXAMPLES}.\")\n",
    "        try:\n",
    "            if repair_example(example):\n",
    "                successful += 1\n",
    "            else:\n",
    "                failed += 1\n",
    "        except Exception as e:\n",
    "            logger.error(f\"❌ Exception occurred while repairing ID {i}: {str(e)}\")\n",
    "            failed += 1\n",
    "        \n",
    "        # Update progress bar\n",
    "        pbar.update(1)\n",
    "        pbar.set_description(f\"Generated: {successful}, Failed: {failed}\")\n",
    "        \n",
    "        # Calculate and display ETA\n",
    "        elapsed = time.time() - start_time\n",
    "        avg_time_per_item = elapsed / (i + 1)\n",
    "        remaining_items = TOTAL_EXAMPLES - (i + 1)\n",
    "        eta_seconds = avg_time_per_item * remaining_items\n",
    "        \n",
    "        if i % 10 == 0 and i > 0:\n",
    "            eta_hours = int(eta_seconds // 3600)\n",
    "            eta_minutes = int((eta_seconds % 3600) // 60)\n",
    "            logger.info(f\"Progress: {i+1}/{TOTAL_EXAMPLES} examples. Estimated time remaining: {eta_hours}h {eta_minutes}m\")\n",
    "            \n",
    "    pbar.close()\n",
    "    \n",
    "    # Final report\n",
    "    end_time = time.time()\n",
    "    total_time = end_time - start_time\n",
    "    hours = int(total_time // 3600)\n",
    "    minutes = int((total_time % 3600) // 60)\n",
    "    seconds = int(total_time % 60)\n",
    "    \n",
    "    logger.info(f\"Generation complete: {successful} successful, {failed} failed\")\n",
    "    logger.info(f\"Total execution time: {hours}h {minutes}m {seconds}s\")\n",
    "    logger.info(f\"Examples saved in {os.path.abspath(BASE_DIR)}\")  "
   ]
  },
  {
   "cell_type": "code",
   "execution_count": null,
   "metadata": {},
   "outputs": [],
   "source": [
    "if __name__ == \"__main__\":\n",
    "    repair_examples()"
   ]
  }
 ],
 "metadata": {
  "kernelspec": {
   "display_name": "Python 3",
   "language": "python",
   "name": "python3"
  },
  "language_info": {
   "codemirror_mode": {
    "name": "ipython",
    "version": 3
   },
   "file_extension": ".py",
   "mimetype": "text/x-python",
   "name": "python",
   "nbconvert_exporter": "python",
   "pygments_lexer": "ipython3",
   "version": "3.12.0"
  }
 },
 "nbformat": 4,
 "nbformat_minor": 2
}
